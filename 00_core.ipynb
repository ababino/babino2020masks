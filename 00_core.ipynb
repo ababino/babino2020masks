{
 "cells": [
  {
   "cell_type": "code",
   "execution_count": null,
   "metadata": {},
   "outputs": [],
   "source": [
    "#hide\n",
    "#skip\n",
    "! [ -e /content ] && pip install -Uqq babino2020masks"
   ]
  },
  {
   "cell_type": "code",
   "execution_count": null,
   "metadata": {},
   "outputs": [],
   "source": [
    "# default_exp core"
   ]
  },
  {
   "cell_type": "markdown",
   "metadata": {},
   "source": [
    "# Core\n",
    "\n",
    "> Access to external data, constants, and important dates."
   ]
  },
  {
   "cell_type": "code",
   "execution_count": null,
   "metadata": {},
   "outputs": [],
   "source": [
    "#hide\n",
    "from nbdev.showdoc import *"
   ]
  },
  {
   "cell_type": "code",
   "execution_count": null,
   "metadata": {},
   "outputs": [],
   "source": [
    "#hide\n",
    "%matplotlib inline"
   ]
  },
  {
   "cell_type": "code",
   "execution_count": null,
   "metadata": {},
   "outputs": [],
   "source": [
    "#export\n",
    "import os\n",
    "import io\n",
    "from zipfile import ZipFile\n",
    "from datetime import datetime, timedelta\n",
    "\n",
    "import pandas as pd\n",
    "import requests\n",
    "from fastcore.all import *\n",
    "import seaborn as sns\n",
    "from matplotlib import pyplot as plt\n",
    "import numpy as np"
   ]
  },
  {
   "cell_type": "code",
   "execution_count": null,
   "metadata": {},
   "outputs": [],
   "source": [
    "#export\n",
    "sns.set_style(\"whitegrid\")\n",
    "sns.set_context(\"notebook\", font_scale=1.5, rc={\"lines.linewidth\": 2.5})"
   ]
  },
  {
   "cell_type": "code",
   "execution_count": null,
   "metadata": {},
   "outputs": [],
   "source": [
    "#export\n",
    "GAMMA = 1/7.5"
   ]
  },
  {
   "cell_type": "markdown",
   "metadata": {},
   "source": [
    "## Sources"
   ]
  },
  {
   "cell_type": "code",
   "execution_count": null,
   "metadata": {},
   "outputs": [],
   "source": [
    "#export\n",
    "api_settings = {\n",
    "                'NYS':         (\"https://health.data.ny.gov/resource/xdss-u53e.csv/\", \n",
    "                                ['test_date', 'total_number_of_tests', 'new_positives'], \n",
    "                                {}),\n",
    "                'Connecticut': (\"https://data.ct.gov/resource/qfkt-uahj.csv\",\n",
    "                                ['date', 'number_of_pcr_tests', 'number_of_pcr_positives']),\n",
    "                'Virginia':    ('https://data.virginia.gov/resource/3u5k-c2gr.csv/',\n",
    "                                ['lab_report_date', 'number_of_pcr_testing', 'number_of_positive_pcr_testing'],\n",
    "                                {'date_ff': ne('Not Reported')}),\n",
    "                }"
   ]
  },
  {
   "cell_type": "markdown",
   "metadata": {},
   "source": [
    "## NYS Data -"
   ]
  },
  {
   "cell_type": "code",
   "execution_count": null,
   "metadata": {},
   "outputs": [],
   "source": [
    "#export\n",
    "def nofilt(x): return True"
   ]
  },
  {
   "cell_type": "code",
   "execution_count": null,
   "metadata": {},
   "outputs": [],
   "source": [
    "#export\n",
    "class API:\n",
    "    def __init__(self, settings, date_ff=nofilt, custom_getter=None):\n",
    "        store_attr(but='settings')\n",
    "        self.url_base, self.usecols = settings\n",
    "        self.pretty_cols = ['Date', 'Tests', 'Positives']#[x.split('_')[-1].capitalize() for x in self.usecols]\n",
    "\n",
    "    def get_data(self, offset=0, limit=5000):\n",
    "        url = self.url_base + f'?$limit={limit}&$offset={offset}'\n",
    "        return pd.read_csv(url, usecols=self.usecols)[self.usecols]\n",
    "    \n",
    "    def iter_data(self, offset=0, limit=5000):\n",
    "        df = pd.DataFrame(columns=self.usecols)\n",
    "        while True:\n",
    "            df = self.get_data(offset=offset, limit=limit)\n",
    "            if len(df)==0: return\n",
    "            offset += limit\n",
    "            yield  df\n",
    "    \n",
    "    def get_all_data(self):\n",
    "        df = pd.DataFrame(columns=self.usecols)\n",
    "        for o in self.iter_data(): df = df.append(o)\n",
    "        return df\n",
    "\n",
    "    def standarize(self, df):\n",
    "        df = df.rename(columns={k:v for k,v in zip(self.usecols, self.pretty_cols)})\n",
    "        df = df[df.Date.map(self.date_ff)]\n",
    "        if 'Date' in df.columns: df['Date'] = pd.to_datetime(df['Date'])\n",
    "        return df\n",
    "\n",
    "    def get_all_data_statewide(self, min_date='2020-03-15'):\n",
    "        '''Gets statewide aggregated data.'''\n",
    "        df = self.custom_getter(self.url_base, self.usecols) if self.custom_getter else self.get_all_data()\n",
    "        df =  self.standarize(df)\n",
    "        assert 'Date' in df.columns, 'data do not have Date column'\n",
    "        df['date'] = df['Date']\n",
    "        df = df.groupby('date').sum()\n",
    "        df['Date'] = pd.to_datetime(df.index)\n",
    "        df['Odds'] = df.Positives / (df.Tests - df.Positives)\n",
    "        df = df[df.Date>=min_date]\n",
    "        return df"
   ]
  },
  {
   "cell_type": "code",
   "execution_count": null,
   "metadata": {},
   "outputs": [
    {
     "data": {
      "text/markdown": [
       "<h4 id=\"API.get_all_data_statewide\" class=\"doc_header\"><code>API.get_all_data_statewide</code><a href=\"__main__.py#L31\" class=\"source_link\" style=\"float:right\">[source]</a></h4>\n",
       "\n",
       "> <code>API.get_all_data_statewide</code>(**`min_date`**=*`'2020-03-15'`*)\n",
       "\n",
       "Gets statewide aggregated data."
      ],
      "text/plain": [
       "<IPython.core.display.Markdown object>"
      ]
     },
     "metadata": {},
     "output_type": "display_data"
    }
   ],
   "source": [
    "show_doc(API.get_all_data_statewide)"
   ]
  },
  {
   "cell_type": "code",
   "execution_count": null,
   "metadata": {},
   "outputs": [
    {
     "data": {
      "text/html": [
       "<div>\n",
       "<style scoped>\n",
       "    .dataframe tbody tr th:only-of-type {\n",
       "        vertical-align: middle;\n",
       "    }\n",
       "\n",
       "    .dataframe tbody tr th {\n",
       "        vertical-align: top;\n",
       "    }\n",
       "\n",
       "    .dataframe thead th {\n",
       "        text-align: right;\n",
       "    }\n",
       "</style>\n",
       "<table border=\"1\" class=\"dataframe\">\n",
       "  <thead>\n",
       "    <tr style=\"text-align: right;\">\n",
       "      <th></th>\n",
       "      <th>Tests</th>\n",
       "      <th>Positives</th>\n",
       "      <th>Date</th>\n",
       "      <th>Odds</th>\n",
       "    </tr>\n",
       "    <tr>\n",
       "      <th>date</th>\n",
       "      <th></th>\n",
       "      <th></th>\n",
       "      <th></th>\n",
       "      <th></th>\n",
       "    </tr>\n",
       "  </thead>\n",
       "  <tbody>\n",
       "    <tr>\n",
       "      <th>2020-03-15</th>\n",
       "      <td>1936</td>\n",
       "      <td>294</td>\n",
       "      <td>2020-03-15</td>\n",
       "      <td>0.179050</td>\n",
       "    </tr>\n",
       "    <tr>\n",
       "      <th>2020-03-16</th>\n",
       "      <td>2907</td>\n",
       "      <td>432</td>\n",
       "      <td>2020-03-16</td>\n",
       "      <td>0.174545</td>\n",
       "    </tr>\n",
       "    <tr>\n",
       "      <th>2020-03-17</th>\n",
       "      <td>4553</td>\n",
       "      <td>1009</td>\n",
       "      <td>2020-03-17</td>\n",
       "      <td>0.284707</td>\n",
       "    </tr>\n",
       "    <tr>\n",
       "      <th>2020-03-18</th>\n",
       "      <td>7698</td>\n",
       "      <td>1769</td>\n",
       "      <td>2020-03-18</td>\n",
       "      <td>0.298364</td>\n",
       "    </tr>\n",
       "    <tr>\n",
       "      <th>2020-03-19</th>\n",
       "      <td>10124</td>\n",
       "      <td>2950</td>\n",
       "      <td>2020-03-19</td>\n",
       "      <td>0.411207</td>\n",
       "    </tr>\n",
       "  </tbody>\n",
       "</table>\n",
       "</div>"
      ],
      "text/plain": [
       "            Tests  Positives       Date      Odds\n",
       "date                                             \n",
       "2020-03-15   1936        294 2020-03-15  0.179050\n",
       "2020-03-16   2907        432 2020-03-16  0.174545\n",
       "2020-03-17   4553       1009 2020-03-17  0.284707\n",
       "2020-03-18   7698       1769 2020-03-18  0.298364\n",
       "2020-03-19  10124       2950 2020-03-19  0.411207"
      ]
     },
     "execution_count": null,
     "metadata": {},
     "output_type": "execute_result"
    }
   ],
   "source": [
    "ny = API(api_settings['NYS'][:2])\n",
    "df = ny.get_all_data_statewide()\n",
    "df.head()"
   ]
  },
  {
   "cell_type": "code",
   "execution_count": null,
   "metadata": {},
   "outputs": [
    {
     "data": {
      "text/html": [
       "<div>\n",
       "<style scoped>\n",
       "    .dataframe tbody tr th:only-of-type {\n",
       "        vertical-align: middle;\n",
       "    }\n",
       "\n",
       "    .dataframe tbody tr th {\n",
       "        vertical-align: top;\n",
       "    }\n",
       "\n",
       "    .dataframe thead th {\n",
       "        text-align: right;\n",
       "    }\n",
       "</style>\n",
       "<table border=\"1\" class=\"dataframe\">\n",
       "  <thead>\n",
       "    <tr style=\"text-align: right;\">\n",
       "      <th></th>\n",
       "      <th>Tests</th>\n",
       "      <th>Positives</th>\n",
       "      <th>Date</th>\n",
       "      <th>Odds</th>\n",
       "    </tr>\n",
       "    <tr>\n",
       "      <th>date</th>\n",
       "      <th></th>\n",
       "      <th></th>\n",
       "      <th></th>\n",
       "      <th></th>\n",
       "    </tr>\n",
       "  </thead>\n",
       "  <tbody>\n",
       "    <tr>\n",
       "      <th>2020-03-15</th>\n",
       "      <td>137</td>\n",
       "      <td>27</td>\n",
       "      <td>2020-03-15</td>\n",
       "      <td>0.245455</td>\n",
       "    </tr>\n",
       "    <tr>\n",
       "      <th>2020-03-16</th>\n",
       "      <td>572</td>\n",
       "      <td>134</td>\n",
       "      <td>2020-03-16</td>\n",
       "      <td>0.305936</td>\n",
       "    </tr>\n",
       "    <tr>\n",
       "      <th>2020-03-17</th>\n",
       "      <td>1052</td>\n",
       "      <td>160</td>\n",
       "      <td>2020-03-17</td>\n",
       "      <td>0.179372</td>\n",
       "    </tr>\n",
       "    <tr>\n",
       "      <th>2020-03-18</th>\n",
       "      <td>1397</td>\n",
       "      <td>251</td>\n",
       "      <td>2020-03-18</td>\n",
       "      <td>0.219023</td>\n",
       "    </tr>\n",
       "    <tr>\n",
       "      <th>2020-03-19</th>\n",
       "      <td>1526</td>\n",
       "      <td>300</td>\n",
       "      <td>2020-03-19</td>\n",
       "      <td>0.244698</td>\n",
       "    </tr>\n",
       "  </tbody>\n",
       "</table>\n",
       "</div>"
      ],
      "text/plain": [
       "            Tests  Positives       Date      Odds\n",
       "date                                             \n",
       "2020-03-15    137         27 2020-03-15  0.245455\n",
       "2020-03-16    572        134 2020-03-16  0.305936\n",
       "2020-03-17   1052        160 2020-03-17  0.179372\n",
       "2020-03-18   1397        251 2020-03-18  0.219023\n",
       "2020-03-19   1526        300 2020-03-19  0.244698"
      ]
     },
     "execution_count": null,
     "metadata": {},
     "output_type": "execute_result"
    }
   ],
   "source": [
    "ct = API(api_settings['Connecticut'][:2])\n",
    "df = ct.get_all_data_statewide()\n",
    "df.head()"
   ]
  },
  {
   "cell_type": "code",
   "execution_count": null,
   "metadata": {},
   "outputs": [
    {
     "data": {
      "text/html": [
       "<div>\n",
       "<style scoped>\n",
       "    .dataframe tbody tr th:only-of-type {\n",
       "        vertical-align: middle;\n",
       "    }\n",
       "\n",
       "    .dataframe tbody tr th {\n",
       "        vertical-align: top;\n",
       "    }\n",
       "\n",
       "    .dataframe thead th {\n",
       "        text-align: right;\n",
       "    }\n",
       "</style>\n",
       "<table border=\"1\" class=\"dataframe\">\n",
       "  <thead>\n",
       "    <tr style=\"text-align: right;\">\n",
       "      <th></th>\n",
       "      <th>Tests</th>\n",
       "      <th>Positives</th>\n",
       "      <th>Date</th>\n",
       "      <th>Odds</th>\n",
       "    </tr>\n",
       "    <tr>\n",
       "      <th>date</th>\n",
       "      <th></th>\n",
       "      <th></th>\n",
       "      <th></th>\n",
       "      <th></th>\n",
       "    </tr>\n",
       "  </thead>\n",
       "  <tbody>\n",
       "    <tr>\n",
       "      <th>2020-03-15</th>\n",
       "      <td>88</td>\n",
       "      <td>7</td>\n",
       "      <td>2020-03-15</td>\n",
       "      <td>0.086420</td>\n",
       "    </tr>\n",
       "    <tr>\n",
       "      <th>2020-03-16</th>\n",
       "      <td>325</td>\n",
       "      <td>12</td>\n",
       "      <td>2020-03-16</td>\n",
       "      <td>0.038339</td>\n",
       "    </tr>\n",
       "    <tr>\n",
       "      <th>2020-03-17</th>\n",
       "      <td>224</td>\n",
       "      <td>23</td>\n",
       "      <td>2020-03-17</td>\n",
       "      <td>0.114428</td>\n",
       "    </tr>\n",
       "    <tr>\n",
       "      <th>2020-03-18</th>\n",
       "      <td>424</td>\n",
       "      <td>19</td>\n",
       "      <td>2020-03-18</td>\n",
       "      <td>0.046914</td>\n",
       "    </tr>\n",
       "    <tr>\n",
       "      <th>2020-03-19</th>\n",
       "      <td>593</td>\n",
       "      <td>92</td>\n",
       "      <td>2020-03-19</td>\n",
       "      <td>0.183633</td>\n",
       "    </tr>\n",
       "  </tbody>\n",
       "</table>\n",
       "</div>"
      ],
      "text/plain": [
       "            Tests  Positives       Date      Odds\n",
       "date                                             \n",
       "2020-03-15     88          7 2020-03-15  0.086420\n",
       "2020-03-16    325         12 2020-03-16  0.038339\n",
       "2020-03-17    224         23 2020-03-17  0.114428\n",
       "2020-03-18    424         19 2020-03-18  0.046914\n",
       "2020-03-19    593         92 2020-03-19  0.183633"
      ]
     },
     "execution_count": null,
     "metadata": {},
     "output_type": "execute_result"
    }
   ],
   "source": [
    "vi = API(api_settings['Virginia'][:2], **api_settings['Virginia'][2])\n",
    "df = vi.get_all_data_statewide()\n",
    "df.head()"
   ]
  },
  {
   "cell_type": "code",
   "execution_count": null,
   "metadata": {},
   "outputs": [],
   "source": [
    "#export\n",
    "def massachusetts_getter(url_base, usecols):\n",
    "    date_str = (datetime.today()-timedelta(1)).strftime('%B-%d-%Y').lower()\n",
    "    settings = api_settings['Massachusetts']\n",
    "    url = url_base.format(date_str)\n",
    "    r = requests.get(url, allow_redirects=True)\n",
    "    zf = ZipFile(io.BytesIO(r.content))\n",
    "    filename = L(zf.filelist).attrgot('filename').filter(Self.startswith('TestingByDate'))[0]\n",
    "    csvf = zf.open(filename)\n",
    "    if filename.split('.')[1]=='csv': df = pd.read_csv(csvf, usecols=susecols)\n",
    "    elif filename.split('.')[1]=='xlsx': df = pd.read_excel(csvf, usecols=usecols)\n",
    "    return df"
   ]
  },
  {
   "cell_type": "code",
   "execution_count": null,
   "metadata": {},
   "outputs": [],
   "source": [
    "#export\n",
    "api_settings['Massachusetts'] = ('https://www.mass.gov/doc/covid-19-raw-data-{}/download',\n",
    "                                 ['Date', 'Molecular New', 'Molecular Positive New'],\n",
    "                                 {'custom_getter': massachusetts_getter})"
   ]
  },
  {
   "cell_type": "code",
   "execution_count": null,
   "metadata": {},
   "outputs": [
    {
     "data": {
      "text/html": [
       "<div>\n",
       "<style scoped>\n",
       "    .dataframe tbody tr th:only-of-type {\n",
       "        vertical-align: middle;\n",
       "    }\n",
       "\n",
       "    .dataframe tbody tr th {\n",
       "        vertical-align: top;\n",
       "    }\n",
       "\n",
       "    .dataframe thead th {\n",
       "        text-align: right;\n",
       "    }\n",
       "</style>\n",
       "<table border=\"1\" class=\"dataframe\">\n",
       "  <thead>\n",
       "    <tr style=\"text-align: right;\">\n",
       "      <th></th>\n",
       "      <th>Tests</th>\n",
       "      <th>Positives</th>\n",
       "      <th>Date</th>\n",
       "      <th>Odds</th>\n",
       "    </tr>\n",
       "    <tr>\n",
       "      <th>date</th>\n",
       "      <th></th>\n",
       "      <th></th>\n",
       "      <th></th>\n",
       "      <th></th>\n",
       "    </tr>\n",
       "  </thead>\n",
       "  <tbody>\n",
       "    <tr>\n",
       "      <th>2020-03-15</th>\n",
       "      <td>1017</td>\n",
       "      <td>68</td>\n",
       "      <td>2020-03-15</td>\n",
       "      <td>0.071654</td>\n",
       "    </tr>\n",
       "    <tr>\n",
       "      <th>2020-03-16</th>\n",
       "      <td>2122</td>\n",
       "      <td>150</td>\n",
       "      <td>2020-03-16</td>\n",
       "      <td>0.076065</td>\n",
       "    </tr>\n",
       "    <tr>\n",
       "      <th>2020-03-17</th>\n",
       "      <td>2656</td>\n",
       "      <td>249</td>\n",
       "      <td>2020-03-17</td>\n",
       "      <td>0.103448</td>\n",
       "    </tr>\n",
       "    <tr>\n",
       "      <th>2020-03-18</th>\n",
       "      <td>2949</td>\n",
       "      <td>259</td>\n",
       "      <td>2020-03-18</td>\n",
       "      <td>0.096283</td>\n",
       "    </tr>\n",
       "    <tr>\n",
       "      <th>2020-03-19</th>\n",
       "      <td>2871</td>\n",
       "      <td>278</td>\n",
       "      <td>2020-03-19</td>\n",
       "      <td>0.107212</td>\n",
       "    </tr>\n",
       "  </tbody>\n",
       "</table>\n",
       "</div>"
      ],
      "text/plain": [
       "            Tests  Positives       Date      Odds\n",
       "date                                             \n",
       "2020-03-15   1017         68 2020-03-15  0.071654\n",
       "2020-03-16   2122        150 2020-03-16  0.076065\n",
       "2020-03-17   2656        249 2020-03-17  0.103448\n",
       "2020-03-18   2949        259 2020-03-18  0.096283\n",
       "2020-03-19   2871        278 2020-03-19  0.107212"
      ]
     },
     "execution_count": null,
     "metadata": {},
     "output_type": "execute_result"
    }
   ],
   "source": [
    "ma = API(api_settings['Massachusetts'][:2], **api_settings['Massachusetts'][2])\n",
    "df = ma.get_all_data_statewide()\n",
    "df.head()"
   ]
  },
  {
   "cell_type": "markdown",
   "metadata": {},
   "source": [
    "## NYS Important Dates"
   ]
  },
  {
   "cell_type": "markdown",
   "metadata": {},
   "source": [
    "- 03/18/2020 [school clousure](http://www.nysed.gov/news/2020/state-education-department-issues-updated-guidance-schools-regarding-novel-coronavirus)\n",
    "- 03/20/2020 00:00 [50% of the workforce](https://www.governor.ny.gov/news/amid-ongoing-covid-19-pandemic-governor-cuomo-announces-deployment-1000-bed-hospital-ship-usns)\n",
    "- 03/22/2020 20:00 ny_pause \n",
    "- 04/03/2020 [CDC masks](https://www.npr.org/sections/goatsandsoda/2020/04/10/829890635/why-there-so-many-different-guidelines-for-face-masks-for-the-public)\n",
    "- 04/12/2020 mask_employers\n",
    "- 04/17/2020 mask_public\n"
   ]
  },
  {
   "cell_type": "code",
   "execution_count": null,
   "metadata": {},
   "outputs": [],
   "source": [
    "#export\n",
    "NEW_YORK_EVENTS = L('03-16-2020 20:00',\n",
    "                    '03-18-2020 20:00',\n",
    "                    '03-20-2020 20:00',\n",
    "                    '03-22-2020 00:00',\n",
    "                    '04-03-2020 00:00',\n",
    "                    '04-12-2020 00:00',\n",
    "                    '04-17-2020 00:00').map(pd.to_datetime)"
   ]
  },
  {
   "cell_type": "markdown",
   "metadata": {},
   "source": [
    "## Plot"
   ]
  },
  {
   "cell_type": "code",
   "execution_count": null,
   "metadata": {},
   "outputs": [],
   "source": [
    "#export\n",
    "palette = sns.palettes.color_palette('colorblind')"
   ]
  },
  {
   "cell_type": "code",
   "execution_count": null,
   "metadata": {},
   "outputs": [],
   "source": [
    "#export\n",
    "@delegates(plt.plot)\n",
    "def plot_data_and_fit(df, x, y, y_hat, yl, yu, logy=True, palette=palette, ax=None, **kwargs):\n",
    "    if not ax: fig, ax = plt.subplots(**kwargs)\n",
    "    if y: df.plot.scatter(x=x, y=y, logy=logy, ax=ax, c=np.array(palette[0])[None,:], label=y)\n",
    "    if y_hat: df.plot(x=x, y=y_hat, logy=logy, ax=ax, c=palette[1], label=y_hat)\n",
    "    if yl: plt.fill_between(df.index, df[yl], df[yu], alpha=0.2, color=palette[1], label='95%CI');\n",
    "    hl = ax.get_legend_handles_labels()\n",
    "    hl2 = L((h, l) for h,l in zip(*hl) if not l.startswith('95'))\n",
    "    ax.legend(hl2.itemgot(0), hl2.itemgot(1))\n",
    "    return ax"
   ]
  },
  {
   "cell_type": "code",
   "execution_count": null,
   "metadata": {},
   "outputs": [
    {
     "name": "stdout",
     "output_type": "stream",
     "text": [
      "Converted 00_core.ipynb.\n",
      "Converted 01_lasso.ipynb.\n",
      "Converted 02_counterfactual.ipynb.\n",
      "Converted index.ipynb.\n"
     ]
    }
   ],
   "source": [
    "from nbdev.export import notebook2script; notebook2script()"
   ]
  }
 ],
 "metadata": {
  "kernelspec": {
   "display_name": "Python 3",
   "language": "python",
   "name": "python3"
  }
 },
 "nbformat": 4,
 "nbformat_minor": 2
}
