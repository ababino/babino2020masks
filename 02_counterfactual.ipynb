{
 "cells": [
  {
   "cell_type": "code",
   "execution_count": null,
   "metadata": {},
   "outputs": [],
   "source": [
    "#hide\n",
    "#skip\n",
    "! [ -e /content ] && pip install -Uqq babino2020masks"
   ]
  },
  {
   "cell_type": "code",
   "execution_count": null,
   "metadata": {},
   "outputs": [],
   "source": [
    "# default_exp counterfactual"
   ]
  },
  {
   "cell_type": "markdown",
   "metadata": {},
   "source": [
    "# Counterfactual\n",
    "> functions to compute counterfactual scenarios."
   ]
  },
  {
   "cell_type": "code",
   "execution_count": null,
   "metadata": {},
   "outputs": [],
   "source": [
    "#hide\n",
    "from nbdev.showdoc import *"
   ]
  },
  {
   "cell_type": "code",
   "execution_count": null,
   "metadata": {},
   "outputs": [],
   "source": [
    "#export\n",
    "from babino2020masks.lasso import *\n",
    "import statsmodels.api as sm\n",
    "from fastcore.all import *\n",
    "from statsmodels.sandbox.regression.predstd import wls_prediction_std\n",
    "import numpy as np"
   ]
  },
  {
   "cell_type": "code",
   "execution_count": null,
   "metadata": {},
   "outputs": [],
   "source": [
    "#export\n",
    "@patch\n",
    "def counterfactual(self:LassoICSelector):\n",
    "    exog_full = self.transform_to_ols(self.X)\n",
    "    ind = exog_full[:, -2]<2\n",
    "    y_sub = self.y[ind]\n",
    "    exog_sub = exog_full[ind,:]\n",
    "    exog_sub = np.hstack([exog_sub[:, :-2],exog_sub[:,-1:]])\n",
    "    ols = sm.OLS(y_sub, exog_sub)\n",
    "    res = ols.fit()\n",
    "    exog = np.hstack([exog_full[:, :-2],exog_full[:,-1:]])\n",
    "    yhat = res.predict(exog)\n",
    "    yhat_orig = self.predict(exog_full)\n",
    "\n",
    "    odds_cf = np.exp(yhat)\n",
    "    (yhat_std, yhat_l, yhat_u) = wls_prediction_std(res, exog)\n",
    "    oddshat_std = odds_cf*yhat_std\n",
    "    return odds_cf, odds_cf - 2*oddshat_std, odds_cf + 2*oddshat_std"
   ]
  },
  {
   "cell_type": "code",
   "execution_count": null,
   "metadata": {},
   "outputs": [
    {
     "name": "stdout",
     "output_type": "stream",
     "text": [
      "Converted 00_core.ipynb.\n",
      "Converted 01_lasso.ipynb.\n",
      "Converted 02_counterfactual.ipynb.\n",
      "Converted index.ipynb.\n"
     ]
    }
   ],
   "source": [
    "from nbdev.export import notebook2script; notebook2script()"
   ]
  }
 ],
 "metadata": {
  "kernelspec": {
   "display_name": "Python 3",
   "language": "python",
   "name": "python3"
  }
 },
 "nbformat": 4,
 "nbformat_minor": 4
}
